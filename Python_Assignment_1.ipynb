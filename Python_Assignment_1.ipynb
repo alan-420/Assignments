{
 "cells": [
  {
   "cell_type": "markdown",
   "metadata": {},
   "source": [
    "### Question :- 1\n",
    "#### Solution:-\n"
   ]
  },
  {
   "cell_type": "code",
   "execution_count": null,
   "metadata": {},
   "outputs": [],
   "source": [
    "for i in range(2000, 3200):\n",
    "    if i%7 == 0 and i%5 != 0:\n",
    "        print(i, end=', ')"
   ]
  },
  {
   "cell_type": "markdown",
   "metadata": {},
   "source": [
    "### Question :- 2\n",
    "#### Solution:-"
   ]
  },
  {
   "cell_type": "code",
   "execution_count": 9,
   "metadata": {},
   "outputs": [
    {
     "name": "stdout",
     "output_type": "stream",
     "text": [
      "Enter first name:alankar \n",
      "Enter last name:sukla\n",
      "sukla alankar \n"
     ]
    }
   ],
   "source": [
    "first_name = input('Enter first name:')\n",
    "last_name = input('Enter last name:')\n",
    "name = [first_name, last_name]\n",
    "print(name[1], name[0])"
   ]
  },
  {
   "cell_type": "markdown",
   "metadata": {},
   "source": [
    "### Question :- 3\n",
    "#### Solution:-"
   ]
  },
  {
   "cell_type": "code",
   "execution_count": 8,
   "metadata": {},
   "outputs": [
    {
     "name": "stdout",
     "output_type": "stream",
     "text": [
      "Enter the diameter :1\n",
      "Volume of sphere is : 0.5233333333333333\n"
     ]
    }
   ],
   "source": [
    "diameter = int(input('Enter the diameter :'))\n",
    "volume = 4/3 * 3.14 * (diameter/2)**3\n",
    "print('Volume of sphere is :',volume)"
   ]
  },
  {
   "cell_type": "code",
   "execution_count": null,
   "metadata": {},
   "outputs": [],
   "source": []
  }
 ],
 "metadata": {
  "kernelspec": {
   "display_name": "Python 3",
   "language": "python",
   "name": "python3"
  }
 },
 "nbformat": 4,
 "nbformat_minor": 2
}
