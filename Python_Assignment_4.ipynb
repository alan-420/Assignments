{
 "cells": [
  {
   "cell_type": "markdown",
   "metadata": {},
   "source": [
    "## Question 1.1 :-\n",
    "## Solution :-"
   ]
  },
  {
   "cell_type": "code",
   "execution_count": 3,
   "metadata": {},
   "outputs": [],
   "source": [
    "class attributes:\n",
    "    def __init__(self,a,b,c):\n",
    "        self.a = a\n",
    "        self.b = b\n",
    "        self.c = c\n",
    "class area(attributes):\n",
    "    def __init__(self,s,*args):\n",
    "        super(area,self).__init__(*args)\n",
    "        self.s = s\n",
    "    def sol(self):\n",
    "        return ((self.s*(self.s - self.a)*(self.s - self.b)*(self.s - self.c))**0.5)\n",
    "    "
   ]
  },
  {
   "cell_type": "code",
   "execution_count": 20,
   "metadata": {},
   "outputs": [
    {
     "name": "stdout",
     "output_type": "stream",
     "text": [
      "Enter the sides using spaces:4 3 5\n",
      "Area of the triangle is: 9.921567416492215\n"
     ]
    }
   ],
   "source": [
    "sides = [*map(int, input('Enter the sides using spaces:').split())]\n",
    "a, b ,c  = sides\n",
    "s = (a+b+c) / 2\n",
    "\n",
    "# Creating objects and passing values\n",
    "\n",
    "area_of_triangle = area(s, a, b, c)\n",
    "print('Area of the triangle is:',j.sol())"
   ]
  },
  {
   "cell_type": "markdown",
   "metadata": {},
   "source": [
    "#### Question 1.2 :-\n",
    "## Solution :-"
   ]
  },
  {
   "cell_type": "code",
   "execution_count": 21,
   "metadata": {},
   "outputs": [
    {
     "name": "stdout",
     "output_type": "stream",
     "text": [
      "Enter the value of n:-3\n",
      "Enter the words using space :alan\n",
      "['alan']\n"
     ]
    }
   ],
   "source": [
    "def filter_long_words(list_word, n):\n",
    "    longer_than_n = []\n",
    "    for i in list_word:\n",
    "        if len(i) > n:\n",
    "            longer_than_n.append(i)\n",
    "    return print(longer_than_n)\n",
    "\n",
    "n = int(input('Enter the value of n:-'))\n",
    "list_word = input('Enter the words using space :').split()\n",
    "filter_long_words(list_word, n)"
   ]
  },
  {
   "cell_type": "markdown",
   "metadata": {},
   "source": [
    "## Question 2.1 :-\n",
    "## Solution:-"
   ]
  },
  {
   "cell_type": "code",
   "execution_count": 22,
   "metadata": {},
   "outputs": [
    {
     "name": "stdout",
     "output_type": "stream",
     "text": [
      "Enter the words using space :alan newton me\n",
      "[4, 6, 2]\n"
     ]
    }
   ],
   "source": [
    "def size_map(list_of_words):\n",
    "    list_of_size = []\n",
    "    for i in list_of_words:\n",
    "        list_of_size.append(len(i))\n",
    "    return print(list_of_size)\n",
    "list_of_words = input('Enter the words using space :').split()\n",
    "size_map(list_of_words)"
   ]
  },
  {
   "cell_type": "markdown",
   "metadata": {},
   "source": [
    "## Question 2.2 :-\n",
    "## Solution :-"
   ]
  },
  {
   "cell_type": "code",
   "execution_count": 23,
   "metadata": {},
   "outputs": [
    {
     "name": "stdout",
     "output_type": "stream",
     "text": [
      "Enter any alphabet:a\n"
     ]
    },
    {
     "data": {
      "text/plain": [
       "True"
      ]
     },
     "execution_count": 23,
     "metadata": {},
     "output_type": "execute_result"
    }
   ],
   "source": [
    "def vowel_check(alphabet):\n",
    "    vowels = ['a', 'e', 'i', 'o', 'u', 'A', 'E', 'I', 'O', 'U']\n",
    "    if alphabet in vowels:\n",
    "        return True\n",
    "    else:\n",
    "        return  False\n",
    "alphabet = input('Enter any alphabet:')\n",
    "vowel_check(alphabet)"
   ]
  },
  {
   "cell_type": "code",
   "execution_count": null,
   "metadata": {},
   "outputs": [],
   "source": []
  }
 ],
 "metadata": {
  "kernelspec": {
   "display_name": "Python 3",
   "language": "python",
   "name": "python3"
  },
  "language_info": {
   "codemirror_mode": {
    "name": "ipython",
    "version": 3
   },
   "file_extension": ".py",
   "mimetype": "text/x-python",
   "name": "python",
   "nbconvert_exporter": "python",
   "pygments_lexer": "ipython3",
   "version": "3.7.3"
  }
 },
 "nbformat": 4,
 "nbformat_minor": 2
}
